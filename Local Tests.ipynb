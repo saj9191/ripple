{
 "cells": [
  {
   "cell_type": "code",
   "execution_count": 10,
   "metadata": {},
   "outputs": [
    {
     "name": "stdout",
     "output_type": "stream",
     "text": [
      "Checking results for sorted_20170403_HelaQC_01.ms2\n",
      "percolator.decoy.peptides.txt b'4599\\n'\n",
      "percolator.decoy.psms.txt b'4973\\n'\n",
      "percolator.target.peptides.txt b'16873\\n'\n",
      "percolator.target.psms.txt b'22037\\n'\n"
     ]
    }
   ],
   "source": [
    "import os\n",
    "import subprocess\n",
    "\n",
    "f = \"sorted_20170403_HelaQC_01.ms2\"\n",
    "print(\"Checking results for\", f)\n",
    "arguments = [\n",
    "  \"--num-threads\", \"1\",\n",
    "  \"--txt-output\", \"T\",\n",
    "  \"--concat\", \"T\",\n",
    "  \"--output-dir\", \"tide-output\",\n",
    "  \"--overwrite\", \"T\"\n",
    "]\n",
    "command = \"./crux tide-search {0:s} HUMAN.fasta.20170123.index {1:s}\".format(f, \" \".join(arguments))\n",
    "output = subprocess.check_output(command, shell=True)\n",
    "\n",
    "arguments = [\n",
    "  \"--subset-max-train\", \"50000\",\n",
    "  \"--quick-validation\", \"T\",\n",
    "  \"--overwrite\", \"T\"\n",
    "]\n",
    "\n",
    "command = \"./crux percolator {0:s} {1:s}\".format(\"tide-output/tide-search.txt\", \" \".join(arguments))\n",
    "output = subprocess.check_output(command, shell=True)\n",
    "\n",
    "for pep in [\"decoy\", \"target\"]:\n",
    "    for item in [\"peptides\", \"psms\"]:\n",
    "        f = \"percolator.{0:s}.{1:s}.txt\".format(pep, item)\n",
    "        print(f, subprocess.check_output(\"cat crux-output/{0:s} | wc -l\".format(f).decode(\"utf-8\").strip(), shell=True))\n"
   ]
  },
  {
   "cell_type": "code",
   "execution_count": 14,
   "metadata": {},
   "outputs": [
    {
     "name": "stdout",
     "output_type": "stream",
     "text": [
      "Checking results for sorted_20170403_HelaQC_01.ms2\n",
      "percolator.decoy.peptides.txt 4599\n",
      "percolator.decoy.psms.txt 4973\n",
      "percolator.target.peptides.txt 16873\n",
      "percolator.target.psms.txt 22037\n"
     ]
    }
   ],
   "source": [
    "import os\n",
    "import subprocess\n",
    "\n",
    "f = \"sorted_20170403_HelaQC_01.ms2\"\n",
    "print(\"Checking results for\", f)\n",
    "arguments = [\n",
    "  \"--num-threads\", \"1\",\n",
    "  \"--txt-output\", \"T\",\n",
    "  \"--concat\", \"T\",\n",
    "  \"--output-dir\", \"tide-output\",\n",
    "  \"--overwrite\", \"T\"\n",
    "]\n",
    "command = \"./crux tide-search {0:s} HUMAN.fasta.20170123.index {1:s}\".format(f, \" \".join(arguments))\n",
    "output = subprocess.check_output(command, shell=True)\n",
    "\n",
    "arguments = [\n",
    "  \"--subset-max-train\", \"50000\",\n",
    "  \"--quick-validation\", \"T\",\n",
    "  \"--overwrite\", \"T\"\n",
    "]\n",
    "\n",
    "command = \"./crux percolator {0:s} {1:s}\".format(\"tide-output/tide-search.txt\", \" \".join(arguments))\n",
    "output = subprocess.check_output(command, shell=True)\n",
    "\n",
    "for pep in [\"decoy\", \"target\"]:\n",
    "    for item in [\"peptides\", \"psms\"]:\n",
    "        f = \"percolator.{0:s}.{1:s}.txt\".format(pep, item)\n",
    "        command = \"cat crux-output/{0:s} | wc -l\".format(f)\n",
    "        print(f, subprocess.check_output(command, shell=True).decode(\"utf-8\").strip())"
   ]
  },
  {
   "cell_type": "code",
   "execution_count": 15,
   "metadata": {},
   "outputs": [
    {
     "name": "stdout",
     "output_type": "stream",
     "text": [
      "Checking results for sorted_20170403_HelaQC_01.ms2\n",
      "percolator.decoy.peptides.txt 4599\n",
      "percolator.decoy.psms.txt 4973\n",
      "percolator.target.peptides.txt 16873\n",
      "percolator.target.psms.txt 22037\n"
     ]
    }
   ],
   "source": [
    "import os\n",
    "import subprocess\n",
    "\n",
    "f = \"sorted_20170403_HelaQC_01.ms2\"\n",
    "print(\"Checking results for\", f)\n",
    "arguments = [\n",
    "  \"--num-threads\", \"1\",\n",
    "  \"--txt-output\", \"T\",\n",
    "  \"--concat\", \"T\",\n",
    "  \"--output-dir\", \"tide-output\",\n",
    "  \"--overwrite\", \"T\"\n",
    "]\n",
    "command = \"./crux tide-search {0:s} HUMAN.fasta.20170123.index {1:s}\".format(f, \" \".join(arguments))\n",
    "output = subprocess.check_output(command, shell=True)\n",
    "\n",
    "arguments = [\n",
    "  \"--subset-max-train\", \"50000\",\n",
    "  \"--quick-validation\", \"T\",\n",
    "  \"--overwrite\", \"T\"\n",
    "]\n",
    "\n",
    "command = \"./crux percolator {0:s} {1:s}\".format(\"tide-output/tide-search.txt\", \" \".join(arguments))\n",
    "output = subprocess.check_output(command, shell=True)\n",
    "\n",
    "for pep in [\"decoy\", \"target\"]:\n",
    "    for item in [\"peptides\", \"psms\"]:\n",
    "        f = \"percolator.{0:s}.{1:s}.txt\".format(pep, item)\n",
    "        command = \"cat crux-output/{0:s} | wc -l\".format(f)\n",
    "        print(f, subprocess.check_output(command, shell=True).decode(\"utf-8\").strip())"
   ]
  },
  {
   "cell_type": "code",
   "execution_count": 4,
   "metadata": {},
   "outputs": [
    {
     "name": "stdout",
     "output_type": "stream",
     "text": [
      "Checking results for sorted_ALS.ms2\n",
      "percolator.decoy.peptides.txt 59692\n",
      "percolator.decoy.psms.txt 90586\n",
      "percolator.target.peptides.txt 65338\n",
      "percolator.target.psms.txt 125240\n"
     ]
    }
   ],
   "source": [
    "import os\n",
    "import subprocess\n",
    "\n",
    "f = \"sorted_ALS.ms2\"\n",
    "print(\"Checking results for\", f)\n",
    "arguments = [\n",
    "  \"--num-threads\", \"1\",\n",
    "  \"--txt-output\", \"T\",\n",
    "  \"--concat\", \"T\",\n",
    "  \"--output-dir\", \"tide-output\",\n",
    "  \"--feature-file-out\", \"F\",\n",
    "  \"--overwrite\", \"T\"\n",
    "]\n",
    "command = \"./crux tide-search {0:s} HUMAN.fasta.20170123.index {1:s}\".format(f, \" \".join(arguments))\n",
    "output = subprocess.check_output(command, shell=True)\n",
    "\n",
    "arguments = [\n",
    "  \"--subset-max-train\", \"50000\",\n",
    "  \"--quick-validation\", \"T\",\n",
    "  \"--overwrite\", \"T\"\n",
    "]\n",
    "\n",
    "command = \"./crux percolator {0:s} {1:s}\".format(\"tide-output/tide-search.txt\", \" \".join(arguments))\n",
    "output = subprocess.check_output(command, shell=True)\n",
    "\n",
    "for pep in [\"decoy\", \"target\"]:\n",
    "    for item in [\"peptides\", \"psms\"]:\n",
    "        f = \"percolator.{0:s}.{1:s}.txt\".format(pep, item)\n",
    "        command = \"cat crux-output/{0:s} | wc -l\".format(f)\n",
    "        print(f, subprocess.check_output(command, shell=True).decode(\"utf-8\").strip())"
   ]
  },
  {
   "cell_type": "code",
   "execution_count": 17,
   "metadata": {},
   "outputs": [
    {
     "name": "stdout",
     "output_type": "stream",
     "text": [
      "Checking results for sorted_20170403_HelaQC_01.ms2\n",
      "tide-search 135041\n",
      "percolator.decoy.peptides.txt 4599\n",
      "percolator.decoy.psms.txt 4973\n",
      "percolator.target.peptides.txt 16873\n",
      "percolator.target.psms.txt 22037\n"
     ]
    }
   ],
   "source": [
    "import os\n",
    "import subprocess\n",
    "\n",
    "f = \"sorted_20170403_HelaQC_01.ms2\"\n",
    "print(\"Checking results for\", f)\n",
    "arguments = [\n",
    "  \"--num-threads\", \"1\",\n",
    "  \"--txt-output\", \"T\",\n",
    "  \"--concat\", \"T\",\n",
    "  \"--output-dir\", \"tide-output\",\n",
    "  \"--overwrite\", \"T\"\n",
    "]\n",
    "command = \"./crux tide-search {0:s} HUMAN.fasta.20170123.index {1:s}\".format(f, \" \".join(arguments))\n",
    "output = subprocess.check_output(command, shell=True)\n",
    "\n",
    "arguments = [\n",
    "  \"--subset-max-train\", \"50000\",\n",
    "  \"--quick-validation\", \"T\",\n",
    "  \"--overwrite\", \"T\"\n",
    "]\n",
    "\n",
    "command = \"cat tide-output/tide-search.txt | wc -l\"\n",
    "print(\"tide-search\", subprocess.check_output(command, shell=True).decode(\"utf-8\").strip())\n",
    "\n",
    "command = \"./crux percolator {0:s} {1:s}\".format(\"tide-output/tide-search.txt\", \" \".join(arguments))\n",
    "output = subprocess.check_output(command, shell=True)\n",
    "\n",
    "for pep in [\"decoy\", \"target\"]:\n",
    "    for item in [\"peptides\", \"psms\"]:\n",
    "        f = \"percolator.{0:s}.{1:s}.txt\".format(pep, item)\n",
    "        command = \"cat crux-output/{0:s} | wc -l\".format(f)\n",
    "        print(f, subprocess.check_output(command, shell=True).decode(\"utf-8\").strip())"
   ]
  },
  {
   "cell_type": "code",
   "execution_count": 2,
   "metadata": {},
   "outputs": [
    {
     "name": "stdout",
     "output_type": "stream",
     "text": [
      "Checking results for sorted_TN_CSF_062617_03.ms2\n",
      "tide-search 251401\n",
      "percolator.decoy.peptides.txt 16613\n",
      "percolator.decoy.psms.txt 19553\n",
      "percolator.target.peptides.txt 21790\n",
      "percolator.target.psms.txt 30737\n"
     ]
    }
   ],
   "source": [
    "import os\n",
    "import subprocess\n",
    "\n",
    "f = \"sorted_TN_CSF_062617_03.ms2\"\n",
    "print(\"Checking results for\", f)\n",
    "arguments = [\n",
    "  \"--num-threads\", \"1\",\n",
    "  \"--txt-output\", \"T\",\n",
    "  \"--concat\", \"T\",\n",
    "  \"--output-dir\", \"tide-output\",\n",
    "  \"--overwrite\", \"T\"\n",
    "]\n",
    "command = \"./crux tide-search {0:s} HUMAN.fasta.20170123.index {1:s}\".format(f, \" \".join(arguments))\n",
    "output = subprocess.check_output(command, shell=True)\n",
    "\n",
    "arguments = [\n",
    "  \"--subset-max-train\", \"50000\",\n",
    "  \"--quick-validation\", \"T\",\n",
    "  \"--overwrite\", \"T\"\n",
    "]\n",
    "\n",
    "command = \"cat tide-output/tide-search.txt | wc -l\"\n",
    "print(\"tide-search\", subprocess.check_output(command, shell=True).decode(\"utf-8\").strip())\n",
    "\n",
    "command = \"./crux percolator {0:s} {1:s}\".format(\"tide-output/tide-search.txt\", \" \".join(arguments))\n",
    "output = subprocess.check_output(command, shell=True)\n",
    "\n",
    "for pep in [\"decoy\", \"target\"]:\n",
    "    for item in [\"peptides\", \"psms\"]:\n",
    "        f = \"percolator.{0:s}.{1:s}.txt\".format(pep, item)\n",
    "        command = \"cat crux-output/{0:s} | wc -l\".format(f)\n",
    "        print(f, subprocess.check_output(command, shell=True).decode(\"utf-8\").strip())"
   ]
  },
  {
   "cell_type": "code",
   "execution_count": 6,
   "metadata": {},
   "outputs": [
    {
     "name": "stdout",
     "output_type": "stream",
     "text": [
      "Checking results for sorted_TN_CSF_062617_03.ms2\n",
      "tide-search 251401\n",
      "crux-output/percolator.target.peptides.txt 3103\n",
      "crux-output/percolator.target.psms.txt 6989\n",
      "tide-search 251401\n",
      "crux-output/percolator.target.peptides.txt 3103\n",
      "crux-output/percolator.target.psms.txt 6989\n",
      "tide-search 251401\n",
      "crux-output/percolator.target.peptides.txt 3103\n",
      "crux-output/percolator.target.psms.txt 6989\n"
     ]
    }
   ],
   "source": [
    "import os\n",
    "import subprocess\n",
    "\n",
    "file = \"sorted_TN_CSF_062617_03.ms2\"\n",
    "print(\"Checking results for\", file)\n",
    "\n",
    "for i in range(3):\n",
    "    arguments = [\n",
    "      \"--num-threads\", \"1\",\n",
    "      \"--txt-output\", \"T\",\n",
    "      \"--concat\", \"T\",\n",
    "      \"--output-dir\", \"tide-output\",\n",
    "      \"--overwrite\", \"T\"\n",
    "    ]\n",
    "    command = \"./crux tide-search {0:s} HUMAN.fasta.20170123.index {1:s}\".format(file, \" \".join(arguments))\n",
    "    output = subprocess.check_output(command, shell=True)\n",
    "\n",
    "    arguments = [\n",
    "      \"--subset-max-train\", \"50000\",\n",
    "      \"--quick-validation\", \"T\",\n",
    "      \"--overwrite\", \"T\"\n",
    "    ]\n",
    "\n",
    "    command = \"cat tide-output/tide-search.txt | wc -l\"\n",
    "    print(\"tide-search\", subprocess.check_output(command, shell=True).decode(\"utf-8\").strip())\n",
    "\n",
    "    command = \"./crux percolator {0:s} {1:s}\".format(\"tide-output/tide-search.txt\", \" \".join(arguments))\n",
    "    output = subprocess.check_output(command, shell=True)\n",
    "\n",
    "    for item in [\"peptides\", \"psms\"]:\n",
    "      name = \"crux-output/percolator.target.{0:s}.txt\".format(item)\n",
    "      f = open(name)\n",
    "      lines = f.readlines()[1:]\n",
    "      qvalues = list(map(lambda line: float(line.split(\"\\t\")[7]), lines))\n",
    "      count = len(list(filter(lambda qvalue: qvalue <= 0.01, qvalues)))\n",
    "      print(name, count)"
   ]
  },
  {
   "cell_type": "code",
   "execution_count": 7,
   "metadata": {},
   "outputs": [
    {
     "name": "stdout",
     "output_type": "stream",
     "text": [
      "Checking results for sorted_TN_CSF_062617_03.ms2\n",
      "tide-search 251401\n",
      "crux-output/percolator.target.peptides.txt 3103\n",
      "crux-output/percolator.target.psms.txt 6989\n",
      "tide-search 251401\n",
      "crux-output/percolator.target.peptides.txt 3103\n",
      "crux-output/percolator.target.psms.txt 6989\n",
      "tide-search 251401\n",
      "crux-output/percolator.target.peptides.txt 3103\n",
      "crux-output/percolator.target.psms.txt 6989\n"
     ]
    }
   ],
   "source": [
    "import os\n",
    "import shutil\n",
    "import subprocess\n",
    "\n",
    "file = \"sorted_TN_CSF_062617_03.ms2\"\n",
    "print(\"Checking results for\", file)\n",
    "\n",
    "for i in range(3):\n",
    "    shutil.rmtree(\"crux-output\")\n",
    "    shutil.rmtree(\"tide-output\")\n",
    "    \n",
    "    arguments = [\n",
    "      \"--num-threads\", \"1\",\n",
    "      \"--txt-output\", \"T\",\n",
    "      \"--concat\", \"T\",\n",
    "      \"--output-dir\", \"tide-output\",\n",
    "      \"--overwrite\", \"T\"\n",
    "    ]\n",
    "    command = \"./crux tide-search {0:s} HUMAN.fasta.20170123.index {1:s}\".format(file, \" \".join(arguments))\n",
    "    output = subprocess.check_output(command, shell=True)\n",
    "\n",
    "    arguments = [\n",
    "      \"--subset-max-train\", \"50000\",\n",
    "      \"--quick-validation\", \"T\",\n",
    "      \"--overwrite\", \"T\"\n",
    "    ]\n",
    "\n",
    "    command = \"cat tide-output/tide-search.txt | wc -l\"\n",
    "    print(\"tide-search\", subprocess.check_output(command, shell=True).decode(\"utf-8\").strip())\n",
    "\n",
    "    command = \"./crux percolator {0:s} {1:s}\".format(\"tide-output/tide-search.txt\", \" \".join(arguments))\n",
    "    output = subprocess.check_output(command, shell=True)\n",
    "\n",
    "    for item in [\"peptides\", \"psms\"]:\n",
    "      name = \"crux-output/percolator.target.{0:s}.txt\".format(item)\n",
    "      f = open(name)\n",
    "      lines = f.readlines()[1:]\n",
    "      qvalues = list(map(lambda line: float(line.split(\"\\t\")[7]), lines))\n",
    "      count = len(list(filter(lambda qvalue: qvalue <= 0.01, qvalues)))\n",
    "      print(name, count)"
   ]
  },
  {
   "cell_type": "code",
   "execution_count": null,
   "metadata": {},
   "outputs": [],
   "source": []
  }
 ],
 "metadata": {
  "kernelspec": {
   "display_name": "Python 3",
   "language": "python",
   "name": "python3"
  },
  "language_info": {
   "codemirror_mode": {
    "name": "ipython",
    "version": 3
   },
   "file_extension": ".py",
   "mimetype": "text/x-python",
   "name": "python",
   "nbconvert_exporter": "python",
   "pygments_lexer": "ipython3",
   "version": "3.5.2"
  }
 },
 "nbformat": 4,
 "nbformat_minor": 2
}
